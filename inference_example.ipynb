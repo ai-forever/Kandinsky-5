{
 "cells": [
  {
   "cell_type": "code",
   "execution_count": null,
   "id": "49a3d5bb-3d04-4d11-aba6-043fc5667abd",
   "metadata": {},
   "outputs": [],
   "source": [
    "from kandinsky import get_T2V_pipeline\n",
    "from IPython.display import Video"
   ]
  },
  {
   "cell_type": "code",
   "execution_count": null,
   "id": "e9bcf5ed-f813-47e1-ade6-3f655d35d0e5",
   "metadata": {},
   "outputs": [],
   "source": [
    "pipe = get_T2V_pipeline(\n",
    "    device_map={\"dit\": \"cuda:0\", \"vae\": \"cuda:0\", \"text_embedder\": \"cuda:0\"},\n",
    "\tconf_path=\"./configs/config_all.yaml\"\n",
    ")"
   ]
  },
  {
   "cell_type": "markdown",
   "id": "1f1563bb-0ebc-4f7c-97f4-6918a55d774f",
   "metadata": {},
   "source": [
    "# Video"
   ]
  },
  {
   "cell_type": "code",
   "execution_count": null,
   "id": "48bc4ef9-0492-41a1-8133-c7e10a894d88",
   "metadata": {},
   "outputs": [],
   "source": [
    "out = pipe(\"a cat in a red hat\", mode=\"sft\", time_length=5, width=768, height=512, save_path='./test.mp4')\n",
    "Video('./test.mp4')"
   ]
  },
  {
   "cell_type": "code",
   "execution_count": null,
   "id": "2049e9cf",
   "metadata": {},
   "outputs": [],
   "source": [
    "out = pipe(\"a cat in a red hat\", mode=\"sft\", time_length=10, width=768, height=512, save_path='./test1.mp4')\n",
    "Video('./test1.mp4')"
   ]
  },
  {
   "cell_type": "code",
   "execution_count": null,
   "id": "6aa78568",
   "metadata": {},
   "outputs": [],
   "source": [
    "out = pipe(\"a cat in a red hat\", mode=\"distil\", time_length=5, width=768, height=512, save_path='./test2.mp4')\n",
    "Video('./test2.mp4')"
   ]
  },
  {
   "cell_type": "code",
   "execution_count": null,
   "id": "dbb50e5c",
   "metadata": {},
   "outputs": [],
   "source": [
    "# out = pipe(\"a cat in a red hat\", mode=\"distil\", time_length=10, width=768, height=512, save_path='./test3.mp4')\n",
    "# Video('./test3.mp4')"
   ]
  }
 ],
 "metadata": {
  "kernelspec": {
   "display_name": "kandinsky-cuda12.8",
   "language": "python",
   "name": "python3"
  },
  "language_info": {
   "codemirror_mode": {
    "name": "ipython",
    "version": 3
   },
   "file_extension": ".py",
   "mimetype": "text/x-python",
   "name": "python",
   "nbconvert_exporter": "python",
   "pygments_lexer": "ipython3",
   "version": "3.12.11"
  }
 },
 "nbformat": 4,
 "nbformat_minor": 5
}
